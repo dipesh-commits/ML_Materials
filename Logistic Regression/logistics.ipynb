{
 "cells": [
  {
   "cell_type": "code",
   "execution_count": 1,
   "metadata": {},
   "outputs": [],
   "source": [
    "import numpy as np"
   ]
  },
  {
   "cell_type": "code",
   "execution_count": 3,
   "metadata": {},
   "outputs": [],
   "source": [
    "X1 = [2.7810836, 1.465489372, 3.396561688, 1.38807019, 3.06407232, 7.627531214, 5.332441248, 6.922596716, 8.675418651, 7.673756466]\n",
    "X2 = [2.550537003, 2.362125076, 4.400293529, 1.850220317, 3.005305973, 2.759262235, 2.088626775, 1.77106367,-0.2420686549, 3.508563011]\n",
    "Y = [0,0,0,0,0,1,1,1,1,1]"
   ]
  },
  {
   "cell_type": "code",
   "execution_count": 4,
   "metadata": {},
   "outputs": [],
   "source": [
    "a0, a1, a2 = 0, 0, 0"
   ]
  },
  {
   "cell_type": "code",
   "execution_count": 5,
   "metadata": {},
   "outputs": [],
   "source": [
    "def hypothesis_function(x1,x2):\n",
    "    z = a0+a1*x1+a2*x2\n",
    "    return z"
   ]
  },
  {
   "cell_type": "code",
   "execution_count": 6,
   "metadata": {},
   "outputs": [],
   "source": [
    "\n",
    "def sigmoid(z):\n",
    "    y_hat = 1/(1+np.exp(-z))\n",
    "    return y_hat\n"
   ]
  },
  {
   "cell_type": "code",
   "execution_count": 13,
   "metadata": {},
   "outputs": [],
   "source": [
    "def optimisation(x1,x2,y,learning_rate,epoch,a0,a1,a2):\n",
    "    while epoch < 5:\n",
    "        for i in range(len(x1)):\n",
    "            prediction = sigmoid(hypothesis_function(x1[i], x2[i]))\n",
    "            a0 += learning_rate * (y[i] - prediction) * prediction * (1-prediction) * 1\n",
    "            a1 += learning_rate * (y[i] - prediction) * prediction * (1-prediction) * x1[i]\n",
    "            a2 += learning_rate * (y[i] - prediction) * prediction * (1-prediction) * x2[i]\n",
    "        epoch = epoch+1\n",
    "    return a0,a1,a2"
   ]
  },
  {
   "cell_type": "code",
   "execution_count": 14,
   "metadata": {},
   "outputs": [
    {
     "name": "stdout",
     "output_type": "stream",
     "text": [
      "4.336808689942018e-19 0.15085291953125005 -0.026768967886874995\n"
     ]
    }
   ],
   "source": [
    "val0, val1, val2 = optimisation(X1,X2,Y,0.01,0,a0,a1,a2)\n",
    "\n",
    "print(val0, val1, val2)"
   ]
  },
  {
   "cell_type": "code",
   "execution_count": null,
   "metadata": {},
   "outputs": [],
   "source": []
  }
 ],
 "metadata": {
  "kernelspec": {
   "display_name": "Python 3",
   "language": "python",
   "name": "python3"
  },
  "language_info": {
   "codemirror_mode": {
    "name": "ipython",
    "version": 3
   },
   "file_extension": ".py",
   "mimetype": "text/x-python",
   "name": "python",
   "nbconvert_exporter": "python",
   "pygments_lexer": "ipython3",
   "version": "3.6.9"
  }
 },
 "nbformat": 4,
 "nbformat_minor": 2
}
